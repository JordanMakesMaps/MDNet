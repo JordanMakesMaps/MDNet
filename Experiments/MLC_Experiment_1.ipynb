{
 "cells": [
  {
   "cell_type": "code",
   "execution_count": 1,
   "metadata": {},
   "outputs": [],
   "source": [
    "import os\n",
    "import gc\n",
    "import warnings\n",
    "warnings.filterwarnings('ignore')\n",
    "\n",
    "import glob\n",
    "from shutil import copyfile, copy2\n",
    "\n",
    "import pandas as pd\n",
    "import numpy as np\n",
    "from skimage import io\n",
    "\n",
    "import matplotlib.pyplot as plt\n",
    "\n",
    "from sklearn.model_selection import train_test_split, KFold"
   ]
  },
  {
   "cell_type": "code",
   "execution_count": 2,
   "metadata": {},
   "outputs": [],
   "source": [
    "# Lists and dictionaries that help make translating between class labels and mask colors easier\n",
    "LABELS = ['Acrop', 'CCA', 'Macro', 'Monti', 'Off', 'Pavon', 'Pocill', 'Porit', 'Sand', 'Turf']\n",
    "\n",
    "\n",
    "old_labels = pd.read_csv(\"Replace_With.csv\")\n",
    "old_labels = dict(zip(old_labels['Old'], old_labels['New']))"
   ]
  },
  {
   "cell_type": "code",
   "execution_count": 3,
   "metadata": {},
   "outputs": [],
   "source": [
    "imgs = glob.glob(\"Data\\\\2008\\\\images\\\\*.jpg\")\n",
    "labs = glob.glob(\"Data\\\\2008\\\\cpce\\\\*.txt\")\n",
    "\n",
    "data = pd.DataFrame(data = list(zip(imgs, labs)), columns = ['images', 'cpce'])\n",
    "\n",
    "dest = \"Data\\\\2008\\\\patches_224\"\n",
    "\n",
    "for l in LABELS:\n",
    "    if(not os.path.exists(dest + \"\\\\\" + l)):\n",
    "        os.mkdir(dest + \"\\\\\" + l)"
   ]
  },
  {
   "cell_type": "code",
   "execution_count": 4,
   "metadata": {},
   "outputs": [],
   "source": [
    "def crop_patch(image, y, x):\n",
    "\n",
    "    size = 112\n",
    "    \n",
    "    patch = image[abs(size - y) : abs(size + y), abs(size - x) : abs(size + x), :]\n",
    "    \n",
    "    return patch\n",
    "\n",
    "\n",
    "def check_dimensions(image, y, x):\n",
    "    \n",
    "    size = 224\n",
    "    \n",
    "    height, width = image.shape[0:2]\n",
    "    if(x + (size//2) > width or x - (size//2) < 0 or y + (size//2) > height or y - (size//2) < 0):\n",
    "        return False\n",
    "    else:\n",
    "        return True\n",
    "    \n",
    "    \n",
    "def extract_patches(data):\n",
    "    \n",
    "    for i in range(len(data)):\n",
    "        each_image = io.imread(data['images'][i])\n",
    "        each_annotation = pd.read_csv(data['cpce'][i], sep = \"; \", \n",
    "                                      engine = 'python').rename(columns={'# Row' : 'Y', 'Col': 'X'})\n",
    "        \n",
    "\n",
    "        each_annotation.replace(old_labels, inplace = True)   \n",
    "\n",
    "        file_name = (data['cpce'][i].split(\"\\\\\")[-1].split(\".\")[0]);\n",
    "\n",
    "        height, width = each_image.shape[0:2]\n",
    "        \n",
    "        for index, row in each_annotation.iterrows():\n",
    "            \n",
    "            X = int(row[1])\n",
    "            Y = int(row[0])\n",
    "            L = str(row[2])\n",
    "        \n",
    "            \n",
    "            if(L not in LABELS):\n",
    "                continue\n",
    "            \n",
    "            if(check_dimensions(each_image, Y, X)):\n",
    "                patch = crop_patch(each_image, Y, X)\n",
    "              \n",
    "            else:\n",
    "                continue      \n",
    "\n",
    "            io.imsave(arr = patch, fname = dest + \"\\\\\" + L +  \"\\\\\" + file_name + \"_\" + str(index) + \".png\")\n",
    "            \n",
    "    print(\"Complete\")       \n",
    "    \n",
    "extract_patches(data)"
   ]
  },
  {
   "cell_type": "code",
   "execution_count": 5,
   "metadata": {},
   "outputs": [],
   "source": [
    "patches = glob.glob(\"Data\\\\2008\\\\patches_224\\\\**\\\\*.png\", recursive = True)\n",
    "labels = [patch.split(\"\\\\\")[-2] for patch in patches]\n",
    "\n",
    "data = pd.DataFrame(data = list(zip(patches, labels)), columns = ['images', 'labels'])\n",
    "data = data[data['labels'] != 'Off']"
   ]
  },
  {
   "cell_type": "code",
   "execution_count": 6,
   "metadata": {},
   "outputs": [
    {
     "name": "stdout",
     "output_type": "stream",
     "text": [
      "Training: 90251 Validation: 12893 Testing: 25787\n"
     ]
    }
   ],
   "source": [
    "# perform the split between training and validation\n",
    "train, test = train_test_split(data, test_size = .2)\n",
    "train, valid = train_test_split(train, test_size = .125)\n",
    "print(\"Training:\", len(train), \"Validation:\", len(valid), \"Testing:\", len(test))"
   ]
  },
  {
   "cell_type": "code",
   "execution_count": 7,
   "metadata": {
    "scrolled": true
   },
   "outputs": [
    {
     "name": "stderr",
     "output_type": "stream",
     "text": [
      "Using TensorFlow backend.\n"
     ]
    },
    {
     "name": "stdout",
     "output_type": "stream",
     "text": [
      "Found 90251 images belonging to 9 classes.\n",
      "Found 12893 images belonging to 9 classes.\n"
     ]
    }
   ],
   "source": [
    "from panel_image import *\n",
    "from keras.preprocessing.image import ImageDataGenerator\n",
    "\n",
    "batch_size = 32\n",
    "\n",
    "# Training images are augmented, and then lightly pre-processed\n",
    "train_augmentor = ImageDataGenerator(preprocessing_function = panel, \n",
    "                                            horizontal_flip = True, \n",
    "                                            vertical_flip = True)      \n",
    "                                     \n",
    "                                                                   \n",
    "# Reading from dataframe, can save augmented images if needed\n",
    "train_generator = train_augmentor.flow_from_dataframe(dataframe = train, directory = None,\n",
    "                                                      x_col = 'images', y_col = 'labels', target_size = (224, 224), \n",
    "                                                      color_mode = \"rgb\",  class_mode = 'categorical', \n",
    "                                                      batch_size = batch_size, shuffle = True, seed = 42)\n",
    "                                                     \n",
    "\n",
    "# Only pre-process images, no augmentation\n",
    "validate_augmentor = ImageDataGenerator( preprocessing_function = panel)\n",
    "\n",
    "\n",
    "# Reading from dataframe                             \n",
    "validation_generator = validate_augmentor.flow_from_dataframe(dataframe = valid, directory = None, \n",
    "                                                              x_col = 'images', y_col = 'labels', target_size = (224, 224), \n",
    "                                                              color_mode = \"rgb\",  class_mode = 'categorical', \n",
    "                                                              batch_size = batch_size, shuffle = True, seed = 42)"
   ]
  },
  {
   "cell_type": "code",
   "execution_count": 8,
   "metadata": {},
   "outputs": [],
   "source": [
    "num_epochs = 25\n",
    "\n",
    "# Defines the length of an epoch, all images used\n",
    "steps_per_epoch_train = len(train)/batch_size\n",
    "\n",
    "# Defines the length of an epoch, all images used\n",
    "steps_per_epoch_valid = len(valid)/batch_size"
   ]
  },
  {
   "cell_type": "code",
   "execution_count": 9,
   "metadata": {},
   "outputs": [
    {
     "name": "stdout",
     "output_type": "stream",
     "text": [
      "WARNING:tensorflow:From C:\\Users\\jpierce\\AppData\\Local\\Continuum\\anaconda3\\envs\\deepfilters-keras-augments\\lib\\site-packages\\tensorflow\\python\\framework\\function.py:986: calling Graph.create_op (from tensorflow.python.framework.ops) with compute_shapes is deprecated and will be removed in a future version.\n",
      "Instructions for updating:\n",
      "Shapes are always computed; don't use the compute_shapes as it has no effect.\n"
     ]
    }
   ],
   "source": [
    "# Transfer-learning model\n",
    "from keras.models import Model\n",
    "#from keras.applications.nasnet import NASNetMobile\n",
    "from efficientnet.keras import EfficientNetB0\n",
    "from keras.layers import Input, Dense, BatchNormalization, Activation, Dropout\n",
    "\n",
    "main_input = Input(shape = (224, 224, 3))\n",
    "#base = NASNetMobile(include_top = False, weights = 'imagenet', pooling = 'max')(main_input)\n",
    "base = EfficientNetB0(include_top = False, weights = 'noisy-student', pooling = 'max')(main_input)\n",
    "x = Dropout(.75)(base)\n",
    "x = Dense(9)(x)\n",
    "main_output = Activation('softmax')(x)\n",
    "\n",
    "model = Model(inputs = [main_input], outputs = [main_output])"
   ]
  },
  {
   "cell_type": "code",
   "execution_count": 10,
   "metadata": {},
   "outputs": [],
   "source": [
    "from keras import optimizers\n",
    "\n",
    "learning_rate = 0.00025\n",
    "\n",
    "model.compile(loss = 'categorical_crossentropy',\n",
    "              optimizer = optimizers.Adam(lr = learning_rate), \n",
    "              metrics = ['acc'])"
   ]
  },
  {
   "cell_type": "code",
   "execution_count": 11,
   "metadata": {},
   "outputs": [],
   "source": [
    "from keras.callbacks import ModelCheckpoint, LearningRateScheduler\n",
    "\n",
    "holla = [\n",
    "         LearningRateScheduler(reduceLR),\n",
    "         ModelCheckpoint(filepath = \"Experiment_1\\\\Panel.h5\", \n",
    "                         monitor = 'val_loss', \n",
    "                         save_weights_only = True, \n",
    "                         save_best_only = True, verbose = 1)\n",
    "        ]"
   ]
  },
  {
   "cell_type": "code",
   "execution_count": 12,
   "metadata": {},
   "outputs": [
    {
     "name": "stdout",
     "output_type": "stream",
     "text": [
      "Epoch 1/25\n",
      "New Learning Rate: 0.00025\n",
      "2821/2820 [==============================] - 1725s 611ms/step - loss: 1.4884 - acc: 0.6902 - val_loss: 0.5791 - val_acc: 0.8009\n",
      "\n",
      "Epoch 00001: val_loss improved from inf to 0.57907, saving model to Experiment_1\\Panel.h5\n",
      "Epoch 2/25\n",
      "New Learning Rate: 0.00022727\n",
      "2821/2820 [==============================] - 1738s 616ms/step - loss: 0.7457 - acc: 0.7704 - val_loss: 0.5278 - val_acc: 0.8120\n",
      "\n",
      "Epoch 00002: val_loss improved from 0.57907 to 0.52784, saving model to Experiment_1\\Panel.h5\n",
      "Epoch 3/25\n",
      "New Learning Rate: 0.00018939\n",
      "2821/2820 [==============================] - 1737s 616ms/step - loss: 0.6414 - acc: 0.7933 - val_loss: 0.5065 - val_acc: 0.8205\n",
      "\n",
      "Epoch 00003: val_loss improved from 0.52784 to 0.50654, saving model to Experiment_1\\Panel.h5\n",
      "Epoch 4/25\n",
      "New Learning Rate: 0.00014569\n",
      "2821/2820 [==============================] - 1752s 621ms/step - loss: 0.5777 - acc: 0.8084 - val_loss: 0.5133 - val_acc: 0.8272\n",
      "\n",
      "Epoch 00004: val_loss did not improve from 0.50654\n",
      "Epoch 5/25\n",
      "New Learning Rate: 0.00010406\n",
      "2821/2820 [==============================] - 1740s 617ms/step - loss: 0.5425 - acc: 0.8176 - val_loss: 0.4461 - val_acc: 0.8382\n",
      "\n",
      "Epoch 00005: val_loss improved from 0.50654 to 0.44610, saving model to Experiment_1\\Panel.h5\n",
      "Epoch 6/25\n",
      "New Learning Rate: 6.938e-05\n",
      "2821/2820 [==============================] - 1735s 615ms/step - loss: 0.5042 - acc: 0.8276 - val_loss: 0.4375 - val_acc: 0.8429\n",
      "\n",
      "Epoch 00006: val_loss improved from 0.44610 to 0.43751, saving model to Experiment_1\\Panel.h5\n",
      "Epoch 7/25\n",
      "New Learning Rate: 4.336e-05\n",
      "2821/2820 [==============================] - 1767s 626ms/step - loss: 0.4822 - acc: 0.8319 - val_loss: 0.4184 - val_acc: 0.8459\n",
      "\n",
      "Epoch 00007: val_loss improved from 0.43751 to 0.41842, saving model to Experiment_1\\Panel.h5\n",
      "Epoch 8/25\n",
      "New Learning Rate: 2.551e-05\n",
      "2821/2820 [==============================] - 1741s 617ms/step - loss: 0.4605 - acc: 0.8372 - val_loss: 0.4105 - val_acc: 0.8462\n",
      "\n",
      "Epoch 00008: val_loss improved from 0.41842 to 0.41049, saving model to Experiment_1\\Panel.h5\n",
      "Epoch 9/25\n",
      "New Learning Rate: 1.417e-05\n",
      "2821/2820 [==============================] - 1749s 620ms/step - loss: 0.4477 - acc: 0.8397 - val_loss: 0.4085 - val_acc: 0.8477\n",
      "\n",
      "Epoch 00009: val_loss improved from 0.41049 to 0.40848, saving model to Experiment_1\\Panel.h5\n",
      "Epoch 10/25\n",
      "New Learning Rate: 7.46e-06\n",
      "2821/2820 [==============================] - 1763s 625ms/step - loss: 0.4416 - acc: 0.8421 - val_loss: 0.4069 - val_acc: 0.8485\n",
      "\n",
      "Epoch 00010: val_loss improved from 0.40848 to 0.40692, saving model to Experiment_1\\Panel.h5\n",
      "Epoch 11/25\n",
      "New Learning Rate: 3.73e-06\n",
      "2821/2820 [==============================] - 1737s 616ms/step - loss: 0.4411 - acc: 0.8413 - val_loss: 0.4068 - val_acc: 0.8491\n",
      "\n",
      "Epoch 00011: val_loss improved from 0.40692 to 0.40678, saving model to Experiment_1\\Panel.h5\n",
      "Epoch 12/25\n",
      "New Learning Rate: 1.78e-06\n",
      "2821/2820 [==============================] - 1734s 615ms/step - loss: 0.4367 - acc: 0.8421 - val_loss: 0.4050 - val_acc: 0.8488\n",
      "\n",
      "Epoch 00012: val_loss improved from 0.40678 to 0.40499, saving model to Experiment_1\\Panel.h5\n",
      "Epoch 13/25\n",
      "New Learning Rate: 8.1e-07\n",
      "2821/2820 [==============================] - 1757s 623ms/step - loss: 0.4343 - acc: 0.8431 - val_loss: 0.4049 - val_acc: 0.8493\n",
      "\n",
      "Epoch 00013: val_loss improved from 0.40499 to 0.40488, saving model to Experiment_1\\Panel.h5\n",
      "Epoch 14/25\n",
      "New Learning Rate: 3.5e-07\n",
      "2821/2820 [==============================] - 1757s 623ms/step - loss: 0.4346 - acc: 0.8432 - val_loss: 0.4055 - val_acc: 0.8491\n",
      "\n",
      "Epoch 00014: val_loss did not improve from 0.40488\n",
      "Epoch 15/25\n",
      "New Learning Rate: 1.5e-07\n",
      "2821/2820 [==============================] - 1736s 615ms/step - loss: 0.4365 - acc: 0.8439 - val_loss: 0.4051 - val_acc: 0.8500\n",
      "\n",
      "Epoch 00015: val_loss did not improve from 0.40488\n",
      "Epoch 16/25\n",
      "New Learning Rate: 6e-08\n",
      "2821/2820 [==============================] - 1756s 623ms/step - loss: 0.4349 - acc: 0.8424 - val_loss: 0.4050 - val_acc: 0.8501\n",
      "\n",
      "Epoch 00016: val_loss did not improve from 0.40488\n",
      "Epoch 17/25\n",
      "New Learning Rate: 2e-08\n",
      "2821/2820 [==============================] - 1737s 616ms/step - loss: 0.4333 - acc: 0.8431 - val_loss: 0.4047 - val_acc: 0.8495\n",
      "\n",
      "Epoch 00017: val_loss improved from 0.40488 to 0.40469, saving model to Experiment_1\\Panel.h5\n",
      "Epoch 18/25\n",
      "New Learning Rate: 1e-08\n",
      "2821/2820 [==============================] - 1748s 620ms/step - loss: 0.4361 - acc: 0.8440 - val_loss: 0.4051 - val_acc: 0.8494\n",
      "\n",
      "Epoch 00018: val_loss did not improve from 0.40469\n",
      "Epoch 19/25\n",
      "New Learning Rate: 0.0\n",
      "2821/2820 [==============================] - 1788s 634ms/step - loss: 0.4389 - acc: 0.8443 - val_loss: 0.4055 - val_acc: 0.8493\n",
      "\n",
      "Epoch 00019: val_loss did not improve from 0.40469\n",
      "Epoch 20/25\n",
      "New Learning Rate: 0.0\n",
      "2821/2820 [==============================] - 1797s 637ms/step - loss: 0.4348 - acc: 0.8440 - val_loss: 0.4048 - val_acc: 0.8497\n",
      "\n",
      "Epoch 00020: val_loss did not improve from 0.40469\n",
      "Epoch 21/25\n",
      "New Learning Rate: 0.0\n",
      "2821/2820 [==============================] - 1739s 616ms/step - loss: 0.4363 - acc: 0.8425 - val_loss: 0.4049 - val_acc: 0.8491\n",
      "\n",
      "Epoch 00021: val_loss did not improve from 0.40469\n",
      "Epoch 22/25\n",
      "New Learning Rate: 0.0\n",
      "2821/2820 [==============================] - 1741s 617ms/step - loss: 0.4346 - acc: 0.8429 - val_loss: 0.4048 - val_acc: 0.8496\n",
      "\n",
      "Epoch 00022: val_loss did not improve from 0.40469\n",
      "Epoch 23/25\n",
      "New Learning Rate: 0.0\n",
      "2821/2820 [==============================] - 1732s 614ms/step - loss: 0.4340 - acc: 0.8434 - val_loss: 0.4046 - val_acc: 0.8484\n",
      "\n",
      "Epoch 00023: val_loss improved from 0.40469 to 0.40460, saving model to Experiment_1\\Panel.h5\n",
      "Epoch 24/25\n",
      "New Learning Rate: 0.0\n",
      "2821/2820 [==============================] - 1727s 612ms/step - loss: 0.4360 - acc: 0.8441 - val_loss: 0.4043 - val_acc: 0.8495\n",
      "\n",
      "Epoch 00024: val_loss improved from 0.40460 to 0.40429, saving model to Experiment_1\\Panel.h5\n",
      "Epoch 25/25\n",
      "New Learning Rate: 0.0\n",
      "2821/2820 [==============================] - 1743s 618ms/step - loss: 0.4318 - acc: 0.8446 - val_loss: 0.4054 - val_acc: 0.8495\n",
      "\n",
      "Epoch 00025: val_loss did not improve from 0.40429\n"
     ]
    }
   ],
   "source": [
    "# Starts training, saves info for later\n",
    "history = model.fit_generator(train_generator, \n",
    "                              steps_per_epoch = steps_per_epoch_train, \n",
    "                              epochs = num_epochs, \n",
    "                              validation_data = validation_generator, \n",
    "                              validation_steps = steps_per_epoch_valid,\n",
    "                              callbacks = holla,\n",
    "                              verbose = 1)  "
   ]
  },
  {
   "cell_type": "code",
   "execution_count": 13,
   "metadata": {},
   "outputs": [
    {
     "data": {
      "image/png": "[encoded data removed]",
      "text/plain": [
       "<Figure size 1080x720 with 1 Axes>"
      ]
     },
     "metadata": {
      "needs_background": "light"
     },
     "output_type": "display_data"
    }
   ],
   "source": [
    "import matplotlib.pyplot as plt\n",
    "\n",
    "plt.figure(figsize = (15, 10))\n",
    "plt.plot(history.history[\"loss\"], label=\"train_loss\")\n",
    "plt.plot(history.history[\"val_loss\"], label=\"val_loss\")\n",
    "plt.plot(history.history[\"acc\"], label=\"train_acc\")\n",
    "plt.plot(history.history[\"val_acc\"], label=\"val_acc\")\n",
    "\n",
    "plt.plot(np.argmin(history.history[\"val_loss\"]), \n",
    "         np.min(history.history[\"val_loss\"]), \n",
    "         marker = \"x\", color = \"b\", label = \"best model\")\n",
    "\n",
    "plt.title(\"Training Loss and Accuracy\")\n",
    "plt.xlabel(\"Epoch #\")\n",
    "plt.ylabel(\"Loss/Accuracy\")\n",
    "plt.legend(loc=\"upper left\")\n",
    "plt.show()"
   ]
  },
  {
   "cell_type": "code",
   "execution_count": 15,
   "metadata": {},
   "outputs": [],
   "source": [
    "model.load_weights(\"Experiment_1\\\\Panel.h5\")"
   ]
  },
  {
   "cell_type": "code",
   "execution_count": 17,
   "metadata": {},
   "outputs": [
    {
     "name": "stdout",
     "output_type": "stream",
     "text": [
      "Found 25787 images belonging to 9 classes.\n"
     ]
    }
   ],
   "source": [
    "# Reads from dataframe for holdout set\n",
    "test_generator = validate_augmentor.flow_from_dataframe(dataframe = test,\n",
    "                                                 x_col = 'images', y_col = 'labels', target_size = (224, 224), \n",
    "                                                 color_mode = \"rgb\",  class_mode = 'categorical', \n",
    "                                                 batch_size = batch_size, shuffle = False, seed = 42)\n",
    "# Defines the length of an epoch\n",
    "steps_per_epoch_test = len(test)/batch_size"
   ]
  },
  {
   "cell_type": "code",
   "execution_count": 18,
   "metadata": {},
   "outputs": [
    {
     "name": "stdout",
     "output_type": "stream",
     "text": [
      "# of images: 25787\n",
      "0.8442626129445069\n",
      "[[  224    20     2     6     1    26     3     0     5]\n",
      " [    4 11294   191    40    35    43    93   270   596]\n",
      " [    1   320  1359     3     6    10     8     6    56]\n",
      " [    2   103     4   594     0     3     8     6     5]\n",
      " [    1    34     6     3   320     1     2     1     2]\n",
      " [   14    73     5     3     3  1338     4     0    16]\n",
      " [    1   158     7     8     8     5  2481    18    26]\n",
      " [    0   291     1    13     2     0    25  2341    89]\n",
      " [    4  1049    58     7     6    10    45   141  1820]]\n"
     ]
    }
   ],
   "source": [
    "from sklearn.metrics import accuracy_score, confusion_matrix, classification_report, roc_curve, auc\n",
    "from sklearn.model_selection import cross_val_score\n",
    "\n",
    "predictions = model.predict_generator(test_generator, steps = steps_per_epoch_test)\n",
    "predict_classes = np.argmax(predictions, axis = 1)\n",
    "\n",
    "test_y = test_generator.classes\n",
    "print(\"# of images:\", len(predict_classes))\n",
    "print(accuracy_score(y_true = test_y, y_pred = predict_classes))\n",
    "print(confusion_matrix(y_true = test_y, y_pred = predict_classes))"
   ]
  }
 ],
 "metadata": {
  "kernelspec": {
   "display_name": "Python 3",
   "language": "python",
   "name": "python3"
  },
  "language_info": {
   "codemirror_mode": {
    "name": "ipython",
    "version": 3
   },
   "file_extension": ".py",
   "mimetype": "text/x-python",
   "name": "python",
   "nbconvert_exporter": "python",
   "pygments_lexer": "ipython3",
   "version": "3.6.8"
  }
 },
 "nbformat": 4,
 "nbformat_minor": 2
}
